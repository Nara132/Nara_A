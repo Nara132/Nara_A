{
 "cells": [
  {
   "cell_type": "code",
   "execution_count": null,
   "metadata": {},
   "outputs": [],
   "source": [
    "import numpy as np\n",
    "import matplotlib.pyplot as plt\n",
    "import pandas as pd\n",
    "from sklearn.preprocessing import OneHotEncoder\n",
    "from sklearn.model_selection import train_test_split\n",
    "\n",
    "test = pd.read_csv(\"./test.csv\", index_col= 0)\n",
    "train = pd.read_csv(\"./train.csv\", index_col= 0)"
   ]
  },
  {
   "cell_type": "code",
   "execution_count": null,
   "metadata": {},
   "outputs": [],
   "source": [
    "train['Companion'] = train['SibSp'] + train['Parch']\n",
    "\n",
    "train['TicketPer1'] = train['Fare'] / (train['Companion'] + 1)\n",
    "\n",
    "test['Companion'] = test['SibSp'] + test['Parch']\n",
    "\n",
    "test['TicketPer1'] = test['Fare'] / (test['Companion'] + 1)"
   ]
  },
  {
   "cell_type": "code",
   "execution_count": null,
   "metadata": {},
   "outputs": [],
   "source": [
    "train['Embarked'] = train['Embarked'].fillna(\"S\")\n",
    "test['Embarked'] = test['Embarked'].fillna(\"S\")"
   ]
  },
  {
   "cell_type": "code",
   "execution_count": null,
   "metadata": {},
   "outputs": [],
   "source": [
    "\n",
    "train = pd.get_dummies(train, columns=['Embarked'])"
   ]
  },
  {
   "cell_type": "code",
   "execution_count": null,
   "metadata": {},
   "outputs": [
    {
     "name": "stdout",
     "output_type": "stream",
     "text": [
      "<class 'pandas.core.frame.DataFrame'>\n",
      "Int64Index: 418 entries, 892 to 1309\n",
      "Data columns (total 12 columns):\n",
      " #   Column      Non-Null Count  Dtype  \n",
      "---  ------      --------------  -----  \n",
      " 0   Pclass      418 non-null    int64  \n",
      " 1   Name        418 non-null    object \n",
      " 2   Sex         418 non-null    object \n",
      " 3   Age         332 non-null    float64\n",
      " 4   SibSp       418 non-null    int64  \n",
      " 5   Parch       418 non-null    int64  \n",
      " 6   Ticket      418 non-null    object \n",
      " 7   Fare        417 non-null    float64\n",
      " 8   Cabin       91 non-null     object \n",
      " 9   Embarked    418 non-null    object \n",
      " 10  Companion   418 non-null    int64  \n",
      " 11  TicketPer1  417 non-null    float64\n",
      "dtypes: float64(3), int64(4), object(5)\n",
      "memory usage: 42.5+ KB\n"
     ]
    }
   ],
   "source": [
    "test.info()"
   ]
  },
  {
   "cell_type": "code",
   "execution_count": null,
   "metadata": {},
   "outputs": [],
   "source": [
    "cabin_train = train.loc[train['Cabin'].notnull()]\n",
    "cabin_test = train.loc[train['Cabin'].isnull()]"
   ]
  },
  {
   "cell_type": "code",
   "execution_count": null,
   "metadata": {},
   "outputs": [
    {
     "name": "stderr",
     "output_type": "stream",
     "text": [
      "C:\\Users\\이나라\\AppData\\Local\\Temp\\ipykernel_1220\\4262284910.py:3: SettingWithCopyWarning: \n",
      "A value is trying to be set on a copy of a slice from a DataFrame.\n",
      "Try using .loc[row_indexer,col_indexer] = value instead\n",
      "\n",
      "See the caveats in the documentation: https://pandas.pydata.org/pandas-docs/stable/user_guide/indexing.html#returning-a-view-versus-a-copy\n",
      "  cabin_train['Ticketnum'] = cabin_train['Ticket'].apply(lambda x: ''.join(re.findall(r'\\d+', x)))\n",
      "C:\\Users\\이나라\\AppData\\Local\\Temp\\ipykernel_1220\\4262284910.py:5: SettingWithCopyWarning: \n",
      "A value is trying to be set on a copy of a slice from a DataFrame.\n",
      "Try using .loc[row_indexer,col_indexer] = value instead\n",
      "\n",
      "See the caveats in the documentation: https://pandas.pydata.org/pandas-docs/stable/user_guide/indexing.html#returning-a-view-versus-a-copy\n",
      "  cabin_test['Ticketnum'] = cabin_test['Ticket'].apply(lambda x: ''.join(re.findall(r'\\d+', x)))\n"
     ]
    }
   ],
   "source": [
    "import re\n",
    "\n",
    "cabin_train['Ticketnum'] = cabin_train['Ticket'].apply(lambda x: ''.join(re.findall(r'\\d+', x)))\n",
    "\n",
    "cabin_test['Ticketnum'] = cabin_test['Ticket'].apply(lambda x: ''.join(re.findall(r'\\d+', x)))\n",
    "\n",
    "\n",
    "# cabin_train['Ticketnum'] = cabin_train['Ticket'].apply(lambda x: re.sub('[a-zA-Z\\.\\/ ]', '', x))\n",
    "\n",
    "# cabin_test['Ticketnum'] = cabin_test['Ticket'].apply(lambda x: re.sub('[a-zA-Z\\.\\/ ]', '', x))\n"
   ]
  },
  {
   "cell_type": "code",
   "execution_count": null,
   "metadata": {},
   "outputs": [
    {
     "data": {
      "text/plain": [
       "(204, 204)"
      ]
     },
     "execution_count": 28,
     "metadata": {},
     "output_type": "execute_result"
    }
   ],
   "source": [
    "data = cabin_train[[ 'Pclass','Age'  'SibSp', 'Parch', 'Embarked_C','Embarked_S','Embarked_Q', 'Fare', 'TicketPer1', 'Ticketnum' , 'Cabin']]\n",
    "data_test1 = cabin_test[[ 'Pclass','Age'  'SibSp', 'Parch', 'Embarked_C', 'Embarked_S', 'Embarked_Q', 'Fare', 'TicketPer1', 'Ticketnum' ]]\n",
    "data_test = data_test1.drop([180, 272, 303, 598])\n",
    "\n",
    "\n",
    "\n",
    "X = data.iloc[:,:-1].values\n",
    "y = data.iloc[:,-1].values\n",
    "\n",
    "len(X) , len(y)"
   ]
  },
  {
   "cell_type": "code",
   "execution_count": null,
   "metadata": {},
   "outputs": [
    {
     "data": {
      "text/html": [
       "<div>\n",
       "<style scoped>\n",
       "    .dataframe tbody tr th:only-of-type {\n",
       "        vertical-align: middle;\n",
       "    }\n",
       "\n",
       "    .dataframe tbody tr th {\n",
       "        vertical-align: top;\n",
       "    }\n",
       "\n",
       "    .dataframe thead th {\n",
       "        text-align: right;\n",
       "    }\n",
       "</style>\n",
       "<table border=\"1\" class=\"dataframe\">\n",
       "  <thead>\n",
       "    <tr style=\"text-align: right;\">\n",
       "      <th></th>\n",
       "      <th>Pclass</th>\n",
       "      <th>SibSp</th>\n",
       "      <th>Parch</th>\n",
       "      <th>Embarked_C</th>\n",
       "      <th>Embarked_S</th>\n",
       "      <th>Embarked_Q</th>\n",
       "      <th>Fare</th>\n",
       "      <th>TicketPer1</th>\n",
       "      <th>Ticketnum</th>\n",
       "    </tr>\n",
       "    <tr>\n",
       "      <th>PassengerId</th>\n",
       "      <th></th>\n",
       "      <th></th>\n",
       "      <th></th>\n",
       "      <th></th>\n",
       "      <th></th>\n",
       "      <th></th>\n",
       "      <th></th>\n",
       "      <th></th>\n",
       "      <th></th>\n",
       "    </tr>\n",
       "  </thead>\n",
       "  <tbody>\n",
       "  </tbody>\n",
       "</table>\n",
       "</div>"
      ],
      "text/plain": [
       "Empty DataFrame\n",
       "Columns: [Pclass, SibSp, Parch, Embarked_C, Embarked_S, Embarked_Q, Fare, TicketPer1, Ticketnum]\n",
       "Index: []"
      ]
     },
     "execution_count": 29,
     "metadata": {},
     "output_type": "execute_result"
    }
   ],
   "source": [
    "data_test[data_test.values == '']"
   ]
  },
  {
   "cell_type": "code",
   "execution_count": null,
   "metadata": {},
   "outputs": [
    {
     "name": "stdout",
     "output_type": "stream",
     "text": [
      "<class 'pandas.core.frame.DataFrame'>\n",
      "Int64Index: 683 entries, 1 to 891\n",
      "Data columns (total 9 columns):\n",
      " #   Column      Non-Null Count  Dtype  \n",
      "---  ------      --------------  -----  \n",
      " 0   Pclass      683 non-null    int64  \n",
      " 1   SibSp       683 non-null    int64  \n",
      " 2   Parch       683 non-null    int64  \n",
      " 3   Embarked_C  683 non-null    uint8  \n",
      " 4   Embarked_S  683 non-null    uint8  \n",
      " 5   Embarked_Q  683 non-null    uint8  \n",
      " 6   Fare        683 non-null    float64\n",
      " 7   TicketPer1  683 non-null    float64\n",
      " 8   Ticketnum   683 non-null    object \n",
      "dtypes: float64(2), int64(3), object(1), uint8(3)\n",
      "memory usage: 39.4+ KB\n"
     ]
    }
   ],
   "source": [
    "data_test.info()"
   ]
  },
  {
   "cell_type": "code",
   "execution_count": null,
   "metadata": {},
   "outputs": [
    {
     "data": {
      "text/plain": [
       "0.9754601226993865"
      ]
     },
     "execution_count": 34,
     "metadata": {},
     "output_type": "execute_result"
    }
   ],
   "source": [
    "from sklearn.ensemble import RandomForestClassifier\n",
    "\n",
    "X_train, X_test, y_train, y_test = train_test_split(X, y, test_size = 0.2, random_state = 0)\n",
    "\n",
    "random_forest = RandomForestClassifier(n_estimators=200)\n",
    "random_forest.fit(X_train, y_train)\n",
    "Y_pred = random_forest.predict(X_test)\n",
    "\n",
    "random_forest.score(X_train, y_train)"
   ]
  },
  {
   "cell_type": "code",
   "execution_count": null,
   "metadata": {},
   "outputs": [
    {
     "name": "stdout",
     "output_type": "stream",
     "text": [
      "['G6' 'E10' 'E10' 'F38' 'G6' 'G6' 'F4' 'E10' 'G6' 'F G73' 'F33' 'G6' 'F33'\n",
      " 'G6' 'D' 'F33' 'F38' 'G6' 'G6' 'D' 'F38' 'F G73' 'B4' 'F38' 'F33' 'D33'\n",
      " 'C123' 'D' 'E10' 'G6' 'G6' 'G6' 'E77' 'F G73' 'F E69' 'F38' 'E10' 'F38'\n",
      " 'F38' 'F E69' 'E10' 'E121' 'F G73' 'D' 'F33' 'D' 'F2' 'G6' 'D' 'G6' 'B4'\n",
      " 'G6' 'E77' 'G6' 'G6' 'E101' 'G6' 'E101' 'F E69' 'D' 'F G73' 'E10' 'F2'\n",
      " 'F33' 'E10' 'E10' 'F38' 'A32' 'F33' 'G6' 'G6' 'E10' 'E10' 'E10' 'F G63'\n",
      " 'G6' 'F G73' 'E10' 'F2' 'F33' 'F G73' 'F G73' 'E77' 'G6' 'F G73' 'F G63'\n",
      " 'F G63' 'F G73' 'F38' 'F E69' 'E10' 'G6' 'D' 'E10' 'F38' 'E77' 'G6'\n",
      " 'C101' 'E10' 'F4' 'G6' 'F38' 'F G63' 'F G63' 'F G73' 'F G73' 'G6' 'F2'\n",
      " 'D' 'D' 'E77' 'G6' 'F G63' 'E10' 'F G73' 'F33' 'F4' 'F G73' 'F4' 'F33'\n",
      " 'D' 'E10' 'G6' 'F G63' 'D10 D12' 'F38' 'E10' 'E10' 'B22' 'E121' 'D'\n",
      " 'F G63' 'E10' 'E121' 'E121' 'G6' 'D17' 'D' 'G6' 'G6' 'E10' 'G6' 'G6'\n",
      " 'F33' 'B22' 'D' 'G6' 'F2' 'F38' 'C52' 'G6' 'F G73' 'F33' 'D' 'G6' 'F38'\n",
      " 'G6' 'F38' 'F33' 'E10' 'B22' 'F G73' 'D' 'E10' 'E10' 'D' 'F38' 'F G73'\n",
      " 'D17' 'F G73' 'F33' 'G6' 'E10' 'F33' 'E77' 'E10' 'F33' 'E10' 'F G73'\n",
      " 'E77' 'E77' 'F G73' 'F33' 'G6' 'F G63' 'F33' 'G6' 'F33' 'F G63' 'E101'\n",
      " 'F2' 'F33' 'D' 'F E69' 'F38' 'E77' 'F G73' 'D' 'F G63' 'G6' 'F33' 'F G73'\n",
      " 'F33' 'E121' 'G6' 'B86' 'B101' 'F2' 'F38' 'G6' 'F38' 'F33' 'E121' 'G6'\n",
      " 'C30' 'F33' 'F38' 'F G63' 'B94' 'G6' 'F E69' 'F38' 'F G63' 'E10' 'E10'\n",
      " 'E10' 'E10' 'F G73' 'F33' 'F38' 'B28' 'E10' 'F G73' 'B4' 'D' 'F38' 'F38'\n",
      " 'E10' 'E40' 'D' 'F2' 'F G73' 'F2' 'F G63' 'F33' 'D' 'F G73' 'F G73' 'F33'\n",
      " 'F4' 'B22' 'F G63' 'E121' 'F38' 'G6' 'C93' 'F G73' 'E10' 'F33' 'F33'\n",
      " 'F33' 'D' 'E10' 'G6' 'E10' 'E77' 'G6' 'E10' 'D' 'E10' 'F33' 'F38' 'F38'\n",
      " 'G6' 'D' 'F E69' 'F G73' 'F38' 'F G63' 'D' 'F38' 'G6' 'E10' 'B80' 'G6'\n",
      " 'D33' 'F G63' 'B51 B53 B55' 'F G63' 'C45' 'G6' 'E10' 'C123' 'F G73'\n",
      " 'E101' 'G6' 'E101' 'F38' 'D' 'F G73' 'G6' 'F G73' 'F G73' 'D' 'F33' 'F33'\n",
      " 'E10' 'E10' 'G6' 'E10' 'E10' 'D' 'F G63' 'G6' 'F G63' 'G6' 'F G73'\n",
      " 'F G73' 'B94' 'E10' 'E10' 'F2' 'G6' 'D' 'F2' 'F G73' 'F38' 'F G63' 'G6'\n",
      " 'E121' 'F G73' 'D' 'F33' 'F38' 'E10' 'D' 'F G73' 'F4' 'G6' 'F33' 'F2'\n",
      " 'E10' 'G6' 'F33' 'E10' 'F33' 'C87' 'G6' 'F2' 'F33' 'E10' 'F G73' 'E77'\n",
      " 'F38' 'E10' 'F33' 'E77' 'F G73' 'B94' 'C87' 'F38' 'G6' 'F G63' 'E10' 'F2'\n",
      " 'E77' 'F33' 'G6' 'F G73' 'E121' 'G6' 'B94' 'E10' 'E77' 'G6' 'E10' 'G6'\n",
      " 'F33' 'F G73' 'A10' 'E10' 'D' 'D' 'F G73' 'E10' 'F38' 'F G63' 'E77' 'F2'\n",
      " 'C52' 'E58' 'D' 'F38' 'E10' 'A20' 'F G73' 'F38' 'F2' 'F G73' 'F G73' 'D'\n",
      " 'D' 'F38' 'E77' 'E10' 'G6' 'F2' 'D' 'G6' 'F E69' 'E10' 'D47' 'C65' 'E10'\n",
      " 'G6' 'G6' 'D' 'D17' 'D' 'D' 'E121' 'F4' 'F33' 'F38' 'D' 'F G63' 'C87'\n",
      " 'C45' 'G6' 'F38' 'F G73' 'F33' 'E10' 'E10' 'E10' 'F G73' 'G6' 'D' 'F G73'\n",
      " 'E77' 'F38' 'E10' 'E10' 'F33' 'F E69' 'E10' 'F4' 'D' 'D' 'F33' 'E10'\n",
      " 'E10' 'F G73' 'F G63' 'G6' 'D' 'F2' 'F33' 'D' 'F4' 'F G73' 'A6' 'E10'\n",
      " 'B4' 'F G73' 'F G73' 'C30' 'F E69' 'G6' 'F G73' 'F38' 'F38' 'E10' 'F2'\n",
      " 'G6' 'F33' 'F33' 'F E69' 'G6' 'F G73' 'D' 'F33' 'F G73' 'F38' 'F G63'\n",
      " 'A36' 'G6' 'F33' 'E10' 'F2' 'E121' 'E10' 'F G73' 'G6' 'D' 'G6' 'F G73'\n",
      " 'F G63' 'F G63' 'F G73' 'F2' 'E10' 'F38' 'F G73' 'C101' 'F G73' 'G6' 'D'\n",
      " 'C93' 'D' 'F G73' 'G6' 'C101' 'F33' 'F G63' 'E10' 'F4' 'F33' 'F33' 'B94'\n",
      " 'F G73' 'E10' 'E77' 'G6' 'F38' 'E77' 'G6' 'F4' 'F E69' 'E121' 'E10'\n",
      " 'F G73' 'E121' 'D' 'D' 'C87' 'F33' 'E10' 'F38' 'F E69' 'F38' 'G6' 'F33'\n",
      " 'F33' 'C125' 'G6' 'E77' 'F33' 'D' 'F G63' 'F4' 'F G73' 'E101' 'F33' 'E10'\n",
      " 'G6' 'F38' 'F33' 'G6' 'D' 'B94' 'D' 'F33' 'D' 'G6' 'F G73' 'F G73' 'E10'\n",
      " 'E10' 'F E69' 'F33' 'F38' 'F2' 'E10' 'F G73' 'F2' 'G6' 'F G73' 'F33'\n",
      " 'E10' 'E10' 'F G73' 'D' 'F G63' 'A31' 'F38' 'F38' 'E10' 'E10' 'F G73' 'D'\n",
      " 'G6' 'F G63' 'F33' 'F38' 'D' 'G6' 'F G73' 'F G73' 'F G73' 'G6' 'G6' 'F38'\n",
      " 'F33' 'B22' 'B50' 'F G73' 'D' 'E10' 'D' 'F2' 'F33' 'F2' 'G6' 'F G63'\n",
      " 'F G63' 'F G63' 'F33' 'E77' 'E121' 'F33' 'G6' 'E10' 'E10' 'D' 'F G63'\n",
      " 'G6' 'E10' 'A36' 'E121' 'F G73' 'D' 'D' 'F38' 'F E69' 'G6' 'D' 'F G63'\n",
      " 'E77' 'E10' 'E10' 'D' 'E10' 'E77' 'A31' 'D' 'E10' 'F G63' 'B22' 'F G73'\n",
      " 'F4' 'G6' 'F G63' 'G6' 'F33' 'G6' 'C7' 'G6' 'D' 'G6' 'G6' 'B22' 'F33'\n",
      " 'F33' 'D' 'E10' 'G6' 'F G73' 'E10' 'D' 'D' 'E77' 'F G73' 'F G73' 'F2'\n",
      " 'F G73' 'E77' 'E101' 'F G73' 'G6' 'F33' 'G6' 'F38'] 683\n"
     ]
    },
    {
     "name": "stderr",
     "output_type": "stream",
     "text": [
      "c:\\Anaconda3\\envs\\study\\lib\\site-packages\\sklearn\\base.py:413: UserWarning: X has feature names, but RandomForestClassifier was fitted without feature names\n",
      "  warnings.warn(\n"
     ]
    }
   ],
   "source": [
    "Y_pred_test = random_forest.predict(data_test)\n",
    "print(Y_pred_test, len(Y_pred_test))"
   ]
  },
  {
   "cell_type": "code",
   "execution_count": null,
   "metadata": {},
   "outputs": [],
   "source": []
  }
 ],
 "metadata": {
  "kernelspec": {
   "display_name": "study",
   "language": "python",
   "name": "python3"
  },
  "language_info": {
   "codemirror_mode": {
    "name": "ipython",
    "version": 3
   },
   "file_extension": ".py",
   "mimetype": "text/x-python",
   "name": "python",
   "nbconvert_exporter": "python",
   "pygments_lexer": "ipython3",
   "version": "3.10.9"
  },
  "orig_nbformat": 4
 },
 "nbformat": 4,
 "nbformat_minor": 2
}
