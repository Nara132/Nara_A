{
 "cells": [
  {
   "cell_type": "code",
   "execution_count": 24,
   "metadata": {},
   "outputs": [],
   "source": [
    "import numpy as np\n",
    "import matplotlib.pyplot as plt\n",
    "import pandas as pd\n",
    "\n",
    "\n",
    "test = pd.read_csv(\"./test.csv\", index_col= 0)\n",
    "train = pd.read_csv(\"./train.csv\", index_col= 0)"
   ]
  },
  {
   "cell_type": "code",
   "execution_count": 25,
   "metadata": {},
   "outputs": [
    {
     "name": "stderr",
     "output_type": "stream",
     "text": [
      "C:\\Users\\이나라\\AppData\\Local\\Temp\\ipykernel_10316\\2189804198.py:1: FutureWarning: The default value of numeric_only in DataFrame.corr is deprecated. In a future version, it will default to False. Select only valid columns or specify the value of numeric_only to silence this warning.\n",
      "  train.corr()\n"
     ]
    },
    {
     "data": {
      "text/html": [
       "<div>\n",
       "<style scoped>\n",
       "    .dataframe tbody tr th:only-of-type {\n",
       "        vertical-align: middle;\n",
       "    }\n",
       "\n",
       "    .dataframe tbody tr th {\n",
       "        vertical-align: top;\n",
       "    }\n",
       "\n",
       "    .dataframe thead th {\n",
       "        text-align: right;\n",
       "    }\n",
       "</style>\n",
       "<table border=\"1\" class=\"dataframe\">\n",
       "  <thead>\n",
       "    <tr style=\"text-align: right;\">\n",
       "      <th></th>\n",
       "      <th>Survived</th>\n",
       "      <th>Pclass</th>\n",
       "      <th>Age</th>\n",
       "      <th>SibSp</th>\n",
       "      <th>Parch</th>\n",
       "      <th>Fare</th>\n",
       "    </tr>\n",
       "  </thead>\n",
       "  <tbody>\n",
       "    <tr>\n",
       "      <th>Survived</th>\n",
       "      <td>1.000000</td>\n",
       "      <td>-0.338481</td>\n",
       "      <td>-0.077221</td>\n",
       "      <td>-0.035322</td>\n",
       "      <td>0.081629</td>\n",
       "      <td>0.257307</td>\n",
       "    </tr>\n",
       "    <tr>\n",
       "      <th>Pclass</th>\n",
       "      <td>-0.338481</td>\n",
       "      <td>1.000000</td>\n",
       "      <td>-0.369226</td>\n",
       "      <td>0.083081</td>\n",
       "      <td>0.018443</td>\n",
       "      <td>-0.549500</td>\n",
       "    </tr>\n",
       "    <tr>\n",
       "      <th>Age</th>\n",
       "      <td>-0.077221</td>\n",
       "      <td>-0.369226</td>\n",
       "      <td>1.000000</td>\n",
       "      <td>-0.308247</td>\n",
       "      <td>-0.189119</td>\n",
       "      <td>0.096067</td>\n",
       "    </tr>\n",
       "    <tr>\n",
       "      <th>SibSp</th>\n",
       "      <td>-0.035322</td>\n",
       "      <td>0.083081</td>\n",
       "      <td>-0.308247</td>\n",
       "      <td>1.000000</td>\n",
       "      <td>0.414838</td>\n",
       "      <td>0.159651</td>\n",
       "    </tr>\n",
       "    <tr>\n",
       "      <th>Parch</th>\n",
       "      <td>0.081629</td>\n",
       "      <td>0.018443</td>\n",
       "      <td>-0.189119</td>\n",
       "      <td>0.414838</td>\n",
       "      <td>1.000000</td>\n",
       "      <td>0.216225</td>\n",
       "    </tr>\n",
       "    <tr>\n",
       "      <th>Fare</th>\n",
       "      <td>0.257307</td>\n",
       "      <td>-0.549500</td>\n",
       "      <td>0.096067</td>\n",
       "      <td>0.159651</td>\n",
       "      <td>0.216225</td>\n",
       "      <td>1.000000</td>\n",
       "    </tr>\n",
       "  </tbody>\n",
       "</table>\n",
       "</div>"
      ],
      "text/plain": [
       "          Survived    Pclass       Age     SibSp     Parch      Fare\n",
       "Survived  1.000000 -0.338481 -0.077221 -0.035322  0.081629  0.257307\n",
       "Pclass   -0.338481  1.000000 -0.369226  0.083081  0.018443 -0.549500\n",
       "Age      -0.077221 -0.369226  1.000000 -0.308247 -0.189119  0.096067\n",
       "SibSp    -0.035322  0.083081 -0.308247  1.000000  0.414838  0.159651\n",
       "Parch     0.081629  0.018443 -0.189119  0.414838  1.000000  0.216225\n",
       "Fare      0.257307 -0.549500  0.096067  0.159651  0.216225  1.000000"
      ]
     },
     "execution_count": 25,
     "metadata": {},
     "output_type": "execute_result"
    }
   ],
   "source": [
    "train.corr()"
   ]
  },
  {
   "cell_type": "code",
   "execution_count": 26,
   "metadata": {},
   "outputs": [
    {
     "name": "stdout",
     "output_type": "stream",
     "text": [
      "<class 'pandas.core.frame.DataFrame'>\n",
      "Int64Index: 891 entries, 1 to 891\n",
      "Data columns (total 11 columns):\n",
      " #   Column    Non-Null Count  Dtype  \n",
      "---  ------    --------------  -----  \n",
      " 0   Survived  891 non-null    int64  \n",
      " 1   Pclass    891 non-null    int64  \n",
      " 2   Name      891 non-null    object \n",
      " 3   Sex       891 non-null    object \n",
      " 4   Age       714 non-null    float64\n",
      " 5   SibSp     891 non-null    int64  \n",
      " 6   Parch     891 non-null    int64  \n",
      " 7   Ticket    891 non-null    object \n",
      " 8   Fare      891 non-null    float64\n",
      " 9   Cabin     204 non-null    object \n",
      " 10  Embarked  889 non-null    object \n",
      "dtypes: float64(2), int64(4), object(5)\n",
      "memory usage: 83.5+ KB\n"
     ]
    }
   ],
   "source": [
    "train.info()"
   ]
  },
  {
   "cell_type": "code",
   "execution_count": 27,
   "metadata": {},
   "outputs": [
    {
     "name": "stdout",
     "output_type": "stream",
     "text": [
      "<class 'pandas.core.frame.DataFrame'>\n",
      "Int64Index: 418 entries, 892 to 1309\n",
      "Data columns (total 10 columns):\n",
      " #   Column    Non-Null Count  Dtype  \n",
      "---  ------    --------------  -----  \n",
      " 0   Pclass    418 non-null    int64  \n",
      " 1   Name      418 non-null    object \n",
      " 2   Sex       418 non-null    object \n",
      " 3   Age       332 non-null    float64\n",
      " 4   SibSp     418 non-null    int64  \n",
      " 5   Parch     418 non-null    int64  \n",
      " 6   Ticket    418 non-null    object \n",
      " 7   Fare      417 non-null    float64\n",
      " 8   Cabin     91 non-null     object \n",
      " 9   Embarked  418 non-null    object \n",
      "dtypes: float64(2), int64(3), object(5)\n",
      "memory usage: 35.9+ KB\n"
     ]
    }
   ],
   "source": [
    "test.info()"
   ]
  },
  {
   "cell_type": "markdown",
   "metadata": {},
   "source": [
    "# AGE...."
   ]
  },
  {
   "cell_type": "code",
   "execution_count": 28,
   "metadata": {},
   "outputs": [],
   "source": [
    "a = train['Name'].str.contains('Miss\\.')\n",
    "# b = train['Name'].str.contains('Mr\\.')\n",
    "c = train['Name'].str.contains('Mrs\\.')\n",
    "d = train['Name'].str.contains('Master\\.')\n",
    "e = train['Name'].str.contains('Dr\\.')\n",
    "\n",
    "miss_age = train[a]['Age'].mean().__round__(1)\n",
    "# mr_age = train[b]['Age'].mean().__round__(1)\n",
    "mrs_age = train[c]['Age'].mean().__round__(1)\n",
    "master_age = train[d]['Age'].mean().__round__(1)\n",
    "dr_age = train[e]['Age'].mean().__round__(1)\n",
    "\n",
    "# mr_t1 = train.loc[(train['Age'] >= 30) & train['Name'].str.contains('Mr\\.') ]\n",
    "# mr_t2 = train.loc[(train['Age'] < 30) & train['Name'].str.contains('Mr\\.') ]\n",
    "\n",
    "mr_t3 = train.loc[(train['Fare'] >= 10.5) & train['Name'].str.contains('Mr\\.') & train['Age'].notnull()]\n",
    "mr_t4 = train.loc[(train['Fare'] < 10.5) & train['Name'].str.contains('Mr\\.') & train['Age'].notnull()]\n",
    "\n",
    "mr_t5 =  mr_t3['Age'].mean().__round__(1)\n",
    "mr_t6 =  mr_t4['Age'].mean().__round__(1)\n",
    "\n",
    "# train.loc[train['Name'].str.contains('Mr\\.'), 'Age'] = train[train['Name'].str.contains('Mr\\.')]['Age'].fillna(mr_age)\n",
    "\n",
    "train.loc[train['Name'].str.contains('Miss\\.'), 'Age'] = train[train['Name'].str.contains('Miss\\.')]['Age'].fillna(miss_age)\n",
    "train.loc[train['Name'].str.contains('Mrs\\.'), 'Age'] = train[train['Name'].str.contains('Mrs\\.')]['Age'].fillna(mrs_age)\n",
    "train.loc[train['Name'].str.contains('Master\\.'), 'Age'] = train[train['Name'].str.contains('Master\\.')]['Age'].fillna(master_age)\n",
    "train.loc[(train['Name'].str.contains('Mr\\.')) & train['Fare'] >= 10.5 , 'Age'] = train.loc[(train['Name'].str.contains('Mr\\.')) & train['Fare'] >= 10.5 , 'Age'].fillna(mr_t5)\n",
    "train.loc[(train['Name'].str.contains('Mr\\.')) & train['Fare'] < 10.5 , 'Age'] = train.loc[(train['Name'].str.contains('Mr\\.')) & train['Fare'] < 10.5 , 'Age'].fillna(mr_t6)\n",
    "train.loc[train['Name'].str.contains('Dr\\.'), 'Age'] = train[train['Name'].str.contains('Dr\\.')]['Age'].fillna(mr_t5)\n",
    "\n",
    "# test.loc[test['Name'].str.contains('Mr\\.'), 'Age'] = test[test['Name'].str.contains('Mr\\.')]['Age'].fillna(mr_age)\n",
    "\n",
    "test.loc[test['Name'].str.contains('Miss\\.'), 'Age'] = test[test['Name'].str.contains('Miss\\.')]['Age'].fillna(miss_age)\n",
    "test.loc[test['Name'].str.contains('Mrs\\.'), 'Age'] = test[test['Name'].str.contains('Mrs\\.')]['Age'].fillna(mrs_age)\n",
    "test.loc[test['Name'].str.contains('Master\\.'), 'Age'] = test[test['Name'].str.contains('Master\\.')]['Age'].fillna(master_age)\n",
    "test.loc[(test['Name'].str.contains('Mr\\.')) & test['Fare'] >= 10.5 , 'Age'] = test.loc[(test['Name'].str.contains('Mr\\.')) & test['Fare'] >= 10.5 , 'Age'].fillna(mr_t5)\n",
    "test.loc[(test['Name'].str.contains('Mr\\.')) & test['Fare'] < 10.5 , 'Age'] = test.loc[(test['Name'].str.contains('Mr\\.')) & test['Fare'] < 10.5 , 'Age'].fillna(mr_t6)\n",
    "test.loc[test['Name'].str.contains('Dr\\.'), 'Age'] = test[test['Name'].str.contains('Dr\\.')]['Age'].fillna(mr_t5)\n",
    "test.loc[test['Name'].str.contains('Ms\\.'), 'Age'] = test[test['Name'].str.contains('Ms\\.')]['Age'].fillna(miss_age)"
   ]
  },
  {
   "cell_type": "code",
   "execution_count": 29,
   "metadata": {},
   "outputs": [
    {
     "name": "stdout",
     "output_type": "stream",
     "text": [
      "0 0\n"
     ]
    }
   ],
   "source": [
    "print(train['Age'].isnull().sum(), test['Age'].isnull().sum())"
   ]
  },
  {
   "cell_type": "markdown",
   "metadata": {},
   "source": [
    "# CABIN"
   ]
  },
  {
   "cell_type": "code",
   "execution_count": null,
   "metadata": {},
   "outputs": [],
   "source": []
  },
  {
   "cell_type": "code",
   "execution_count": null,
   "metadata": {},
   "outputs": [],
   "source": []
  },
  {
   "cell_type": "code",
   "execution_count": null,
   "metadata": {},
   "outputs": [],
   "source": []
  },
  {
   "cell_type": "code",
   "execution_count": null,
   "metadata": {},
   "outputs": [],
   "source": []
  },
  {
   "cell_type": "code",
   "execution_count": null,
   "metadata": {},
   "outputs": [],
   "source": []
  }
 ],
 "metadata": {
  "kernelspec": {
   "display_name": "study",
   "language": "python",
   "name": "python3"
  },
  "language_info": {
   "codemirror_mode": {
    "name": "ipython",
    "version": 3
   },
   "file_extension": ".py",
   "mimetype": "text/x-python",
   "name": "python",
   "nbconvert_exporter": "python",
   "pygments_lexer": "ipython3",
   "version": "3.10.9"
  },
  "orig_nbformat": 4
 },
 "nbformat": 4,
 "nbformat_minor": 2
}
